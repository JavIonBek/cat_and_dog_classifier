{
  "nbformat": 4,
  "nbformat_minor": 0,
  "metadata": {
    "colab": {
      "name": "cat_and_dog_classifier.ipynb",
      "provenance": [],
      "collapsed_sections": []
    },
    "kernelspec": {
      "name": "python3",
      "display_name": "Python 3"
    },
    "accelerator": "GPU"
  },
  "cells": [
    {
      "cell_type": "markdown",
      "metadata": {
        "id": "tgHxnA2XagMr",
        "colab_type": "text"
      },
      "source": [
        "# Cat and Dog classifier with CNN"
      ]
    },
    {
      "cell_type": "code",
      "metadata": {
        "id": "b-6D7mGHdk0L",
        "colab_type": "code",
        "colab": {
          "base_uri": "https://localhost:8080/",
          "height": 34
        },
        "outputId": "8f9c5f76-3342-4ae6-cdc3-be5d2d803b5a"
      },
      "source": [
        "# Import TF 2.x\n",
        "# Run this cell if TensorFlow 2.x isn't the default in Colab\n",
        "import tensorflow as tf\n",
        "try:\n",
        "  # %tensorflow_version only exists in Colab\n",
        "  %tensorflow_version 2.x\n",
        "  print(tf.__version__)\n",
        "except Exception:\n",
        "  print('Old tensorflow')"
      ],
      "execution_count": 2,
      "outputs": [
        {
          "output_type": "stream",
          "text": [
            "2.2.0\n"
          ],
          "name": "stdout"
        }
      ]
    },
    {
      "cell_type": "code",
      "metadata": {
        "id": "PifiDhaOd-L6",
        "colab_type": "code",
        "colab": {
          "base_uri": "https://localhost:8080/",
          "height": 51
        },
        "outputId": "fc41a483-8719-4e90-95ce-6c7ec0d02c70"
      },
      "source": [
        "# Check the version and GPU\n",
        "print('Tensorflow version: ', tf.__version__)\n",
        "print('GPU', 'available (Okey)' if tf.config.list_physical_devices('GPU') else 'not available :(')"
      ],
      "execution_count": 3,
      "outputs": [
        {
          "output_type": "stream",
          "text": [
            "Tensorflow version:  2.2.0\n",
            "GPU available (Okey)\n"
          ],
          "name": "stdout"
        }
      ]
    },
    {
      "cell_type": "code",
      "metadata": {
        "id": "FSSUhkEzaSwA",
        "colab_type": "code",
        "colab": {
          "base_uri": "https://localhost:8080/",
          "height": 1000
        },
        "outputId": "4e87e513-90f5-4cdd-e474-daa5dce0e10f"
      },
      "source": [
        "# Download dataset\n",
        "!wget --no-check-certificate \\\n",
        "    https://storage.googleapis.com/mledu-datasets/cats_and_dogs_filtered.zip \\\n",
        "    -O /tmp/cats_and_dogs_filtered.zip\n",
        "  \n",
        "import os\n",
        "import zipfile\n",
        "import tensorflow as tf\n",
        "from tensorflow.keras.optimizers import RMSprop\n",
        "from tensorflow.keras.preprocessing.image import ImageDataGenerator\n",
        "\n",
        "# Unzip zipfile\n",
        "local_zip = '/tmp/cats_and_dogs_filtered.zip'\n",
        "zip_ref = zipfile.ZipFile(local_zip, 'r')\n",
        "zip_ref.extractall('/tmp')\n",
        "zip_ref.close()\n",
        "\n",
        "base_dir = '/tmp/cats_and_dogs_filtered'\n",
        "train_dir = os.path.join(base_dir, 'train')\n",
        "validation_dir = os.path.join(base_dir, 'validation')\n",
        "\n",
        "# Directory with our training cat pictures\n",
        "train_cats_dir = os.path.join(train_dir, 'cats')\n",
        "\n",
        "# Directory with our training dog pictures\n",
        "train_dogs_dir = os.path.join(train_dir, 'dogs')\n",
        "\n",
        "# Directory with our validation cat pictures\n",
        "validation_cats_dir = os.path.join(validation_dir, 'cats')\n",
        "\n",
        "# Directory with our validation dog pictures\n",
        "validation_dogs_dir = os.path.join(validation_dir, 'dogs')\n",
        "\n",
        "# Create model\n",
        "model = tf.keras.models.Sequential([\n",
        "    tf.keras.layers.Conv2D(32, (3,3), activation='relu', input_shape=(150, 150, 3)),\n",
        "    tf.keras.layers.MaxPooling2D(2, 2),\n",
        "    tf.keras.layers.Conv2D(64, (3,3), activation='relu'),\n",
        "    tf.keras.layers.MaxPooling2D(2,2),\n",
        "    tf.keras.layers.Conv2D(128, (3,3), activation='relu'),\n",
        "    tf.keras.layers.MaxPooling2D(2,2),\n",
        "    tf.keras.layers.Conv2D(128, (3,3), activation='relu'),\n",
        "    tf.keras.layers.MaxPooling2D(2,2),\n",
        "    tf.keras.layers.Dropout(0.5),\n",
        "    tf.keras.layers.Flatten(),\n",
        "    tf.keras.layers.Dense(512, activation='relu'),\n",
        "    tf.keras.layers.Dense(1, activation='sigmoid')\n",
        "])\n",
        "\n",
        "model.compile(loss='binary_crossentropy',\n",
        "              optimizer=RMSprop(lr=1e-4),\n",
        "              metrics=['accuracy'])\n",
        "\n",
        "# This code has changed. Now instead of the ImageGenerator just rescaling\n",
        "# the image, we also rotate and do other operations\n",
        "# Updated to do image augmentation\n",
        "train_datagen = ImageDataGenerator(\n",
        "      rescale=1./255,\n",
        "      rotation_range=40,\n",
        "      width_shift_range=0.2,\n",
        "      height_shift_range=0.2,\n",
        "      shear_range=0.2,\n",
        "      zoom_range=0.2,\n",
        "      horizontal_flip=True,\n",
        "      fill_mode='nearest')\n",
        "\n",
        "test_datagen = ImageDataGenerator(rescale=1./255)\n",
        "\n",
        "# Flow training images in batches of 20 using train_datagen generator\n",
        "train_generator = train_datagen.flow_from_directory(\n",
        "        train_dir,  # This is the source directory for training images\n",
        "        target_size=(150, 150),  # All images will be resized to 150x150\n",
        "        batch_size=20,\n",
        "        # Since we use binary_crossentropy loss, we need binary labels\n",
        "        class_mode='binary')\n",
        "\n",
        "# Flow validation images in batches of 20 using test_datagen generator\n",
        "validation_generator = test_datagen.flow_from_directory(\n",
        "        validation_dir,\n",
        "        target_size=(150, 150),\n",
        "        batch_size=20,\n",
        "        class_mode='binary')\n",
        "\n",
        "history = model.fit(\n",
        "      train_generator,\n",
        "      steps_per_epoch=100,  # 2000 images = batch_size * steps\n",
        "      epochs=100,\n",
        "      validation_data=validation_generator,\n",
        "      validation_steps=50,  # 1000 images = batch_size * steps\n",
        "      verbose=2)"
      ],
      "execution_count": 1,
      "outputs": [
        {
          "output_type": "stream",
          "text": [
            "--2020-06-29 14:12:23--  https://storage.googleapis.com/mledu-datasets/cats_and_dogs_filtered.zip\n",
            "Resolving storage.googleapis.com (storage.googleapis.com)... 172.217.13.80, 172.217.5.240, 172.253.63.128, ...\n",
            "Connecting to storage.googleapis.com (storage.googleapis.com)|172.217.13.80|:443... connected.\n",
            "HTTP request sent, awaiting response... 200 OK\n",
            "Length: 68606236 (65M) [application/zip]\n",
            "Saving to: ‘/tmp/cats_and_dogs_filtered.zip’\n",
            "\n",
            "/tmp/cats_and_dogs_ 100%[===================>]  65.43M   135MB/s    in 0.5s    \n",
            "\n",
            "2020-06-29 14:12:23 (135 MB/s) - ‘/tmp/cats_and_dogs_filtered.zip’ saved [68606236/68606236]\n",
            "\n",
            "Found 2000 images belonging to 2 classes.\n",
            "Found 1000 images belonging to 2 classes.\n",
            "Epoch 1/100\n",
            "100/100 - 16s - loss: 0.6924 - accuracy: 0.5240 - val_loss: 0.6779 - val_accuracy: 0.5840\n",
            "Epoch 2/100\n",
            "100/100 - 16s - loss: 0.6859 - accuracy: 0.5450 - val_loss: 0.6597 - val_accuracy: 0.5790\n",
            "Epoch 3/100\n",
            "100/100 - 16s - loss: 0.6724 - accuracy: 0.5690 - val_loss: 0.6713 - val_accuracy: 0.5280\n",
            "Epoch 4/100\n",
            "100/100 - 16s - loss: 0.6609 - accuracy: 0.5905 - val_loss: 0.6327 - val_accuracy: 0.6200\n",
            "Epoch 5/100\n",
            "100/100 - 16s - loss: 0.6508 - accuracy: 0.6090 - val_loss: 0.6105 - val_accuracy: 0.6800\n",
            "Epoch 6/100\n",
            "100/100 - 16s - loss: 0.6338 - accuracy: 0.6260 - val_loss: 0.5985 - val_accuracy: 0.6700\n",
            "Epoch 7/100\n",
            "100/100 - 16s - loss: 0.6220 - accuracy: 0.6550 - val_loss: 0.6014 - val_accuracy: 0.6520\n",
            "Epoch 8/100\n",
            "100/100 - 16s - loss: 0.6025 - accuracy: 0.6765 - val_loss: 0.6021 - val_accuracy: 0.6610\n",
            "Epoch 9/100\n",
            "100/100 - 16s - loss: 0.6038 - accuracy: 0.6675 - val_loss: 0.5601 - val_accuracy: 0.6950\n",
            "Epoch 10/100\n",
            "100/100 - 16s - loss: 0.5879 - accuracy: 0.6735 - val_loss: 0.5805 - val_accuracy: 0.6940\n",
            "Epoch 11/100\n",
            "100/100 - 16s - loss: 0.5919 - accuracy: 0.6810 - val_loss: 0.6021 - val_accuracy: 0.6710\n",
            "Epoch 12/100\n",
            "100/100 - 16s - loss: 0.5843 - accuracy: 0.6815 - val_loss: 0.5720 - val_accuracy: 0.6890\n",
            "Epoch 13/100\n",
            "100/100 - 16s - loss: 0.5807 - accuracy: 0.6940 - val_loss: 0.5306 - val_accuracy: 0.7240\n",
            "Epoch 14/100\n",
            "100/100 - 16s - loss: 0.5673 - accuracy: 0.6940 - val_loss: 0.5441 - val_accuracy: 0.7150\n",
            "Epoch 15/100\n",
            "100/100 - 16s - loss: 0.5748 - accuracy: 0.6975 - val_loss: 0.5592 - val_accuracy: 0.7020\n",
            "Epoch 16/100\n",
            "100/100 - 16s - loss: 0.5601 - accuracy: 0.7095 - val_loss: 0.5633 - val_accuracy: 0.7140\n",
            "Epoch 17/100\n",
            "100/100 - 16s - loss: 0.5650 - accuracy: 0.7040 - val_loss: 0.5187 - val_accuracy: 0.7300\n",
            "Epoch 18/100\n",
            "100/100 - 16s - loss: 0.5575 - accuracy: 0.7020 - val_loss: 0.5590 - val_accuracy: 0.7070\n",
            "Epoch 19/100\n",
            "100/100 - 16s - loss: 0.5562 - accuracy: 0.7085 - val_loss: 0.5125 - val_accuracy: 0.7340\n",
            "Epoch 20/100\n",
            "100/100 - 16s - loss: 0.5491 - accuracy: 0.7240 - val_loss: 0.5061 - val_accuracy: 0.7440\n",
            "Epoch 21/100\n",
            "100/100 - 16s - loss: 0.5406 - accuracy: 0.7225 - val_loss: 0.5027 - val_accuracy: 0.7520\n",
            "Epoch 22/100\n",
            "100/100 - 16s - loss: 0.5453 - accuracy: 0.7265 - val_loss: 0.5110 - val_accuracy: 0.7370\n",
            "Epoch 23/100\n",
            "100/100 - 16s - loss: 0.5452 - accuracy: 0.7260 - val_loss: 0.4927 - val_accuracy: 0.7580\n",
            "Epoch 24/100\n",
            "100/100 - 16s - loss: 0.5413 - accuracy: 0.7215 - val_loss: 0.4869 - val_accuracy: 0.7490\n",
            "Epoch 25/100\n",
            "100/100 - 16s - loss: 0.5293 - accuracy: 0.7380 - val_loss: 0.5585 - val_accuracy: 0.7260\n",
            "Epoch 26/100\n",
            "100/100 - 16s - loss: 0.5191 - accuracy: 0.7435 - val_loss: 0.4830 - val_accuracy: 0.7600\n",
            "Epoch 27/100\n",
            "100/100 - 16s - loss: 0.5380 - accuracy: 0.7275 - val_loss: 0.4766 - val_accuracy: 0.7520\n",
            "Epoch 28/100\n",
            "100/100 - 16s - loss: 0.5199 - accuracy: 0.7330 - val_loss: 0.4953 - val_accuracy: 0.7480\n",
            "Epoch 29/100\n",
            "100/100 - 16s - loss: 0.5206 - accuracy: 0.7420 - val_loss: 0.4973 - val_accuracy: 0.7510\n",
            "Epoch 30/100\n",
            "100/100 - 16s - loss: 0.5143 - accuracy: 0.7470 - val_loss: 0.4836 - val_accuracy: 0.7550\n",
            "Epoch 31/100\n",
            "100/100 - 16s - loss: 0.5179 - accuracy: 0.7310 - val_loss: 0.4981 - val_accuracy: 0.7480\n",
            "Epoch 32/100\n",
            "100/100 - 16s - loss: 0.5067 - accuracy: 0.7615 - val_loss: 0.5167 - val_accuracy: 0.7400\n",
            "Epoch 33/100\n",
            "100/100 - 16s - loss: 0.5125 - accuracy: 0.7515 - val_loss: 0.4736 - val_accuracy: 0.7640\n",
            "Epoch 34/100\n",
            "100/100 - 16s - loss: 0.5125 - accuracy: 0.7425 - val_loss: 0.4867 - val_accuracy: 0.7530\n",
            "Epoch 35/100\n",
            "100/100 - 16s - loss: 0.5051 - accuracy: 0.7435 - val_loss: 0.5450 - val_accuracy: 0.7310\n",
            "Epoch 36/100\n",
            "100/100 - 16s - loss: 0.4985 - accuracy: 0.7555 - val_loss: 0.4741 - val_accuracy: 0.7760\n",
            "Epoch 37/100\n",
            "100/100 - 16s - loss: 0.5111 - accuracy: 0.7510 - val_loss: 0.4787 - val_accuracy: 0.7550\n",
            "Epoch 38/100\n",
            "100/100 - 16s - loss: 0.5003 - accuracy: 0.7470 - val_loss: 0.4567 - val_accuracy: 0.7820\n",
            "Epoch 39/100\n",
            "100/100 - 16s - loss: 0.4981 - accuracy: 0.7625 - val_loss: 0.5145 - val_accuracy: 0.7480\n",
            "Epoch 40/100\n",
            "100/100 - 16s - loss: 0.5038 - accuracy: 0.7485 - val_loss: 0.4650 - val_accuracy: 0.7710\n",
            "Epoch 41/100\n",
            "100/100 - 16s - loss: 0.4822 - accuracy: 0.7645 - val_loss: 0.4568 - val_accuracy: 0.7850\n",
            "Epoch 42/100\n",
            "100/100 - 16s - loss: 0.4923 - accuracy: 0.7635 - val_loss: 0.4853 - val_accuracy: 0.7570\n",
            "Epoch 43/100\n",
            "100/100 - 16s - loss: 0.4917 - accuracy: 0.7580 - val_loss: 0.4933 - val_accuracy: 0.7540\n",
            "Epoch 44/100\n",
            "100/100 - 16s - loss: 0.4851 - accuracy: 0.7605 - val_loss: 0.4587 - val_accuracy: 0.7740\n",
            "Epoch 45/100\n",
            "100/100 - 16s - loss: 0.4770 - accuracy: 0.7600 - val_loss: 0.4756 - val_accuracy: 0.7750\n",
            "Epoch 46/100\n",
            "100/100 - 16s - loss: 0.4572 - accuracy: 0.7835 - val_loss: 0.5264 - val_accuracy: 0.7600\n",
            "Epoch 47/100\n",
            "100/100 - 16s - loss: 0.4795 - accuracy: 0.7700 - val_loss: 0.4881 - val_accuracy: 0.7730\n",
            "Epoch 48/100\n",
            "100/100 - 16s - loss: 0.4725 - accuracy: 0.7715 - val_loss: 0.5007 - val_accuracy: 0.7540\n",
            "Epoch 49/100\n",
            "100/100 - 16s - loss: 0.4592 - accuracy: 0.7745 - val_loss: 0.4303 - val_accuracy: 0.7840\n",
            "Epoch 50/100\n",
            "100/100 - 16s - loss: 0.4726 - accuracy: 0.7725 - val_loss: 0.4699 - val_accuracy: 0.7800\n",
            "Epoch 51/100\n",
            "100/100 - 16s - loss: 0.4641 - accuracy: 0.7765 - val_loss: 0.4734 - val_accuracy: 0.7810\n",
            "Epoch 52/100\n",
            "100/100 - 16s - loss: 0.4710 - accuracy: 0.7725 - val_loss: 0.4364 - val_accuracy: 0.7920\n",
            "Epoch 53/100\n",
            "100/100 - 16s - loss: 0.4770 - accuracy: 0.7705 - val_loss: 0.4916 - val_accuracy: 0.7770\n",
            "Epoch 54/100\n",
            "100/100 - 16s - loss: 0.4571 - accuracy: 0.7905 - val_loss: 0.4762 - val_accuracy: 0.7600\n",
            "Epoch 55/100\n",
            "100/100 - 16s - loss: 0.4649 - accuracy: 0.7825 - val_loss: 0.4851 - val_accuracy: 0.7580\n",
            "Epoch 56/100\n",
            "100/100 - 16s - loss: 0.4574 - accuracy: 0.7770 - val_loss: 0.5151 - val_accuracy: 0.7660\n",
            "Epoch 57/100\n",
            "100/100 - 16s - loss: 0.4485 - accuracy: 0.7890 - val_loss: 0.4983 - val_accuracy: 0.7800\n",
            "Epoch 58/100\n",
            "100/100 - 16s - loss: 0.4528 - accuracy: 0.7845 - val_loss: 0.4572 - val_accuracy: 0.7780\n",
            "Epoch 59/100\n",
            "100/100 - 16s - loss: 0.4514 - accuracy: 0.7800 - val_loss: 0.4223 - val_accuracy: 0.8010\n",
            "Epoch 60/100\n",
            "100/100 - 16s - loss: 0.4519 - accuracy: 0.7960 - val_loss: 0.4322 - val_accuracy: 0.8040\n",
            "Epoch 61/100\n",
            "100/100 - 16s - loss: 0.4427 - accuracy: 0.7800 - val_loss: 0.4716 - val_accuracy: 0.7710\n",
            "Epoch 62/100\n",
            "100/100 - 16s - loss: 0.4403 - accuracy: 0.8005 - val_loss: 0.4175 - val_accuracy: 0.7980\n",
            "Epoch 63/100\n",
            "100/100 - 16s - loss: 0.4529 - accuracy: 0.7835 - val_loss: 0.5509 - val_accuracy: 0.7320\n",
            "Epoch 64/100\n",
            "100/100 - 16s - loss: 0.4389 - accuracy: 0.7935 - val_loss: 0.4404 - val_accuracy: 0.7960\n",
            "Epoch 65/100\n",
            "100/100 - 16s - loss: 0.4358 - accuracy: 0.7955 - val_loss: 0.4077 - val_accuracy: 0.8030\n",
            "Epoch 66/100\n",
            "100/100 - 16s - loss: 0.4356 - accuracy: 0.7950 - val_loss: 0.4561 - val_accuracy: 0.7990\n",
            "Epoch 67/100\n",
            "100/100 - 16s - loss: 0.4298 - accuracy: 0.8035 - val_loss: 0.4008 - val_accuracy: 0.8110\n",
            "Epoch 68/100\n",
            "100/100 - 17s - loss: 0.4385 - accuracy: 0.7920 - val_loss: 0.4238 - val_accuracy: 0.7920\n",
            "Epoch 69/100\n",
            "100/100 - 16s - loss: 0.4275 - accuracy: 0.7920 - val_loss: 0.4434 - val_accuracy: 0.7900\n",
            "Epoch 70/100\n",
            "100/100 - 16s - loss: 0.4343 - accuracy: 0.8040 - val_loss: 0.4090 - val_accuracy: 0.7960\n",
            "Epoch 71/100\n",
            "100/100 - 16s - loss: 0.4299 - accuracy: 0.7995 - val_loss: 0.4068 - val_accuracy: 0.8110\n",
            "Epoch 72/100\n",
            "100/100 - 16s - loss: 0.4413 - accuracy: 0.7975 - val_loss: 0.4133 - val_accuracy: 0.8050\n",
            "Epoch 73/100\n",
            "100/100 - 16s - loss: 0.4334 - accuracy: 0.7985 - val_loss: 0.3928 - val_accuracy: 0.8190\n",
            "Epoch 74/100\n",
            "100/100 - 16s - loss: 0.4114 - accuracy: 0.8105 - val_loss: 0.4309 - val_accuracy: 0.7920\n",
            "Epoch 75/100\n",
            "100/100 - 16s - loss: 0.4216 - accuracy: 0.8010 - val_loss: 0.4283 - val_accuracy: 0.7970\n",
            "Epoch 76/100\n",
            "100/100 - 16s - loss: 0.4256 - accuracy: 0.7985 - val_loss: 0.4094 - val_accuracy: 0.8080\n",
            "Epoch 77/100\n",
            "100/100 - 16s - loss: 0.4411 - accuracy: 0.8085 - val_loss: 0.3960 - val_accuracy: 0.8130\n",
            "Epoch 78/100\n",
            "100/100 - 16s - loss: 0.4127 - accuracy: 0.8080 - val_loss: 0.4004 - val_accuracy: 0.8160\n",
            "Epoch 79/100\n",
            "100/100 - 16s - loss: 0.4239 - accuracy: 0.8060 - val_loss: 0.6849 - val_accuracy: 0.7120\n",
            "Epoch 80/100\n",
            "100/100 - 16s - loss: 0.4254 - accuracy: 0.8110 - val_loss: 0.4223 - val_accuracy: 0.8050\n",
            "Epoch 81/100\n",
            "100/100 - 16s - loss: 0.4052 - accuracy: 0.8185 - val_loss: 0.3893 - val_accuracy: 0.8270\n",
            "Epoch 82/100\n",
            "100/100 - 16s - loss: 0.4040 - accuracy: 0.8155 - val_loss: 0.4114 - val_accuracy: 0.7960\n",
            "Epoch 83/100\n",
            "100/100 - 16s - loss: 0.4154 - accuracy: 0.8140 - val_loss: 0.4213 - val_accuracy: 0.7970\n",
            "Epoch 84/100\n",
            "100/100 - 16s - loss: 0.4063 - accuracy: 0.8180 - val_loss: 0.4312 - val_accuracy: 0.8060\n",
            "Epoch 85/100\n",
            "100/100 - 16s - loss: 0.4173 - accuracy: 0.8085 - val_loss: 0.4149 - val_accuracy: 0.7940\n",
            "Epoch 86/100\n",
            "100/100 - 16s - loss: 0.4171 - accuracy: 0.8090 - val_loss: 0.5422 - val_accuracy: 0.7560\n",
            "Epoch 87/100\n",
            "100/100 - 17s - loss: 0.4011 - accuracy: 0.8165 - val_loss: 0.3965 - val_accuracy: 0.8180\n",
            "Epoch 88/100\n",
            "100/100 - 16s - loss: 0.3918 - accuracy: 0.8275 - val_loss: 0.4145 - val_accuracy: 0.8090\n",
            "Epoch 89/100\n",
            "100/100 - 16s - loss: 0.4104 - accuracy: 0.8180 - val_loss: 0.4243 - val_accuracy: 0.8100\n",
            "Epoch 90/100\n",
            "100/100 - 16s - loss: 0.3895 - accuracy: 0.8245 - val_loss: 0.4363 - val_accuracy: 0.7910\n",
            "Epoch 91/100\n",
            "100/100 - 16s - loss: 0.3995 - accuracy: 0.8155 - val_loss: 0.4518 - val_accuracy: 0.7920\n",
            "Epoch 92/100\n",
            "100/100 - 16s - loss: 0.4031 - accuracy: 0.8185 - val_loss: 0.3975 - val_accuracy: 0.8110\n",
            "Epoch 93/100\n",
            "100/100 - 16s - loss: 0.4022 - accuracy: 0.8210 - val_loss: 0.3716 - val_accuracy: 0.8340\n",
            "Epoch 94/100\n",
            "100/100 - 16s - loss: 0.4028 - accuracy: 0.8115 - val_loss: 0.5306 - val_accuracy: 0.7640\n",
            "Epoch 95/100\n",
            "100/100 - 16s - loss: 0.3916 - accuracy: 0.8280 - val_loss: 0.3988 - val_accuracy: 0.8250\n",
            "Epoch 96/100\n",
            "100/100 - 16s - loss: 0.3952 - accuracy: 0.8285 - val_loss: 0.4126 - val_accuracy: 0.8100\n",
            "Epoch 97/100\n",
            "100/100 - 16s - loss: 0.3902 - accuracy: 0.8215 - val_loss: 0.4108 - val_accuracy: 0.8100\n",
            "Epoch 98/100\n",
            "100/100 - 16s - loss: 0.3868 - accuracy: 0.8245 - val_loss: 0.4522 - val_accuracy: 0.7890\n",
            "Epoch 99/100\n",
            "100/100 - 16s - loss: 0.3802 - accuracy: 0.8225 - val_loss: 0.3751 - val_accuracy: 0.8290\n",
            "Epoch 100/100\n",
            "100/100 - 16s - loss: 0.3788 - accuracy: 0.8390 - val_loss: 0.3612 - val_accuracy: 0.8400\n"
          ],
          "name": "stdout"
        }
      ]
    },
    {
      "cell_type": "code",
      "metadata": {
        "id": "n4Wr-RsvapZB",
        "colab_type": "code",
        "colab": {
          "base_uri": "https://localhost:8080/",
          "height": 545
        },
        "outputId": "89db920a-a952-4191-c35b-90d2e2174bb1"
      },
      "source": [
        "import matplotlib.pyplot as plt\n",
        "acc = history.history['accuracy']\n",
        "val_acc = history.history['val_accuracy']\n",
        "loss = history.history['loss']\n",
        "val_loss = history.history['val_loss']\n",
        "\n",
        "epochs = range(len(acc))\n",
        "\n",
        "plt.plot(epochs, acc, 'bo', label='Training accuracy')\n",
        "plt.plot(epochs, val_acc, 'b', label='Validation accuracy')\n",
        "plt.title('Training and validation accuracy')\n",
        "plt.grid(True)\n",
        "plt.legend()\n",
        "\n",
        "plt.figure()\n",
        "\n",
        "plt.plot(epochs, loss, 'bo', label='Training Loss')\n",
        "plt.plot(epochs, val_loss, 'b', label='Validation Loss')\n",
        "plt.title('Training and validation loss')\n",
        "plt.grid(True)\n",
        "plt.legend()\n",
        "\n",
        "plt.show()"
      ],
      "execution_count": 4,
      "outputs": [
        {
          "output_type": "display_data",
          "data": {
            "image/png": "[encoded data removed]",
            "text/plain": [
              "<Figure size 432x288 with 1 Axes>"
            ]
          },
          "metadata": {
            "tags": [],
            "needs_background": "light"
          }
        },
        {
          "output_type": "display_data",
          "data": {
            "image/png": "[encoded data removed]",
            "text/plain": [
              "<Figure size 432x288 with 1 Axes>"
            ]
          },
          "metadata": {
            "tags": [],
            "needs_background": "light"
          }
        }
      ]
    },
    {
      "cell_type": "code",
      "metadata": {
        "id": "Xq-p3BwfapWM",
        "colab_type": "code",
        "colab": {}
      },
      "source": [
        "# Save model to a HDF5 file\n",
        "model.save('/tmp/model.h5')"
      ],
      "execution_count": 6,
      "outputs": []
    },
    {
      "cell_type": "code",
      "metadata": {
        "id": "KL8z3aFjhAEL",
        "colab_type": "code",
        "colab": {
          "resources": {
            "http://localhost:8080/nbextensions/google.colab/files.js": {
              "data": "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",
              "ok": true,
              "headers": [
                [
                  "content-type",
                  "application/javascript"
                ]
              ],
              "status": 200,
              "status_text": ""
            }
          },
          "base_uri": "https://localhost:8080/",
          "height": 446
        },
        "outputId": "07e8da2a-f200-43d4-d0b3-5505e505225d"
      },
      "source": [
        "# Testing on custom images\n",
        "import numpy as np\n",
        "from google.colab import files\n",
        "from keras.preprocessing import image\n",
        "\n",
        "uploaded = files.upload()\n",
        "\n",
        "for fn in uploaded.keys():\n",
        "  path = '/content/' + fn\n",
        "  img = image.load_img(path, target_size=(150, 150))\n",
        "  x = image.img_to_array(img)\n",
        "  x = x / 255.0\n",
        "  x = np.expand_dims(x, axis=0)\n",
        "\n",
        "  images = np.vstack([x])\n",
        "  classes = model.predict(images, batch_size=10)\n",
        "  print(classes[0])\n",
        "  if classes[0] > 0.5:\n",
        "    print(fn + ' is a dog')\n",
        "  else:\n",
        "    print(fn + ' is a cat')"
      ],
      "execution_count": 8,
      "outputs": [
        {
          "output_type": "display_data",
          "data": {
            "text/html": [
              "\n",
              "     <input type=\"file\" id=\"files-663ee3ee-61c3-453d-8ca6-47deea291fcc\" name=\"files[]\" multiple disabled\n",
              "        style=\"border:none\" />\n",
              "     <output id=\"result-663ee3ee-61c3-453d-8ca6-47deea291fcc\">\n",
              "      Upload widget is only available when the cell has been executed in the\n",
              "      current browser session. Please rerun this cell to enable.\n",
              "      </output>\n",
              "      <script src=\"/nbextensions/google.colab/files.js\"></script> "
            ],
            "text/plain": [
              "<IPython.core.display.HTML object>"
            ]
          },
          "metadata": {
            "tags": []
          }
        },
        {
          "output_type": "stream",
          "text": [
            "Saving cat-1.jpg to cat-1.jpg\n",
            "Saving cat-2.jpg to cat-2.jpg\n",
            "Saving cat-3.jpg to cat-3.jpg\n",
            "Saving dog-1.jpg to dog-1.jpg\n",
            "Saving dog-2.jpg to dog-2.jpg\n",
            "Saving dog-3.jpg to dog-3.jpg\n",
            "[0.27558848]\n",
            "cat-1.jpg is a cat\n",
            "[0.26279795]\n",
            "cat-2.jpg is a cat\n",
            "[0.09343454]\n",
            "cat-3.jpg is a cat\n",
            "[0.43388638]\n",
            "dog-1.jpg is a cat\n",
            "[0.9510957]\n",
            "dog-2.jpg is a dog\n",
            "[0.93795586]\n",
            "dog-3.jpg is a dog\n"
          ],
          "name": "stdout"
        }
      ]
    },
    {
      "cell_type": "code",
      "metadata": {
        "id": "reLeGvSUi3fY",
        "colab_type": "code",
        "colab": {}
      },
      "source": [
        ""
      ],
      "execution_count": null,
      "outputs": []
    }
  ]
}